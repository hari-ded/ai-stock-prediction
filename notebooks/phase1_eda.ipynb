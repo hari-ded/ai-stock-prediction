import yfinance as yf
import pandas as pd
import matplotlib.pyplot as plt
import seaborn as sns

data = yf.download("AAPL", start="2020-01-01", end="2023-12-31")
data['Close'].plot(figsize=(12,5), title="AAPL Stock Closing Price")
plt.show()
sns.heatmap(data.corr(), annot=True, cmap="coolwarm")
